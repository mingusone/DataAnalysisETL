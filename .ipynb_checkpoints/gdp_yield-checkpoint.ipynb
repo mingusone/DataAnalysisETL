{
 "cells": [
  {
   "cell_type": "code",
   "execution_count": 1,
   "metadata": {},
   "outputs": [],
   "source": [
    "import pandas as pd\n",
    "from sqlalchemy import create_engine"
   ]
  },
  {
   "cell_type": "code",
   "execution_count": 2,
   "metadata": {},
   "outputs": [],
   "source": [
    "# Create database connection\n",
    "connection_string = \"postgres:postgres@localhost:5432/gdp\"\n",
    "engine = create_engine(f'postgresql://{connection_string}')\n"
   ]
  },
  {
   "cell_type": "code",
   "execution_count": 3,
   "metadata": {},
   "outputs": [
    {
     "data": {
      "text/plain": [
       "['gdp_data']"
      ]
     },
     "execution_count": 3,
     "metadata": {},
     "output_type": "execute_result"
    }
   ],
   "source": [
    "# Confirm tables\n",
    "engine.table_names()"
   ]
  },
  {
   "cell_type": "code",
   "execution_count": 4,
   "metadata": {},
   "outputs": [
    {
     "data": {
      "text/html": [
       "<div>\n",
       "<style scoped>\n",
       "    .dataframe tbody tr th:only-of-type {\n",
       "        vertical-align: middle;\n",
       "    }\n",
       "\n",
       "    .dataframe tbody tr th {\n",
       "        vertical-align: top;\n",
       "    }\n",
       "\n",
       "    .dataframe thead th {\n",
       "        text-align: right;\n",
       "    }\n",
       "</style>\n",
       "<table border=\"1\" class=\"dataframe\">\n",
       "  <thead>\n",
       "    <tr style=\"text-align: right;\">\n",
       "      <th></th>\n",
       "      <th>date</th>\n",
       "      <th>real_gdp</th>\n",
       "      <th>current_gdp</th>\n",
       "    </tr>\n",
       "  </thead>\n",
       "  <tbody>\n",
       "    <tr>\n",
       "      <th>859</th>\n",
       "      <td>03/2018</td>\n",
       "      <td>2.2</td>\n",
       "      <td>4.3</td>\n",
       "    </tr>\n",
       "    <tr>\n",
       "      <th>860</th>\n",
       "      <td>06/2018</td>\n",
       "      <td>4.2</td>\n",
       "      <td>7.6</td>\n",
       "    </tr>\n",
       "    <tr>\n",
       "      <th>861</th>\n",
       "      <td>09/2018</td>\n",
       "      <td>3.4</td>\n",
       "      <td>4.9</td>\n",
       "    </tr>\n",
       "    <tr>\n",
       "      <th>862</th>\n",
       "      <td>12/2018</td>\n",
       "      <td>2.2</td>\n",
       "      <td>4.1</td>\n",
       "    </tr>\n",
       "    <tr>\n",
       "      <th>863</th>\n",
       "      <td>03/2019</td>\n",
       "      <td>3.1</td>\n",
       "      <td>3.8</td>\n",
       "    </tr>\n",
       "  </tbody>\n",
       "</table>\n",
       "</div>"
      ],
      "text/plain": [
       "        date  real_gdp  current_gdp\n",
       "859  03/2018       2.2          4.3\n",
       "860  06/2018       4.2          7.6\n",
       "861  09/2018       3.4          4.9\n",
       "862  12/2018       2.2          4.1\n",
       "863  03/2019       3.1          3.8"
      ]
     },
     "execution_count": 4,
     "metadata": {},
     "output_type": "execute_result"
    }
   ],
   "source": [
    "pd.read_sql_query('select * from gdp_data', con=engine).tail() "
   ]
  },
  {
   "cell_type": "code",
   "execution_count": 5,
   "metadata": {},
   "outputs": [],
   "source": [
    "# Create database connection\n",
    "connection_string = \"postgres:postgres@localhost:5432/yield\"\n",
    "engine = create_engine(f'postgresql://{connection_string}')\n"
   ]
  },
  {
   "cell_type": "code",
   "execution_count": 6,
   "metadata": {},
   "outputs": [
    {
     "data": {
      "text/plain": [
       "['yield']"
      ]
     },
     "execution_count": 6,
     "metadata": {},
     "output_type": "execute_result"
    }
   ],
   "source": [
    "# Confirm tables\n",
    "engine.table_names()"
   ]
  },
  {
   "cell_type": "code",
   "execution_count": 7,
   "metadata": {},
   "outputs": [
    {
     "data": {
      "text/html": [
       "<div>\n",
       "<style scoped>\n",
       "    .dataframe tbody tr th:only-of-type {\n",
       "        vertical-align: middle;\n",
       "    }\n",
       "\n",
       "    .dataframe tbody tr th {\n",
       "        vertical-align: top;\n",
       "    }\n",
       "\n",
       "    .dataframe thead th {\n",
       "        text-align: right;\n",
       "    }\n",
       "</style>\n",
       "<table border=\"1\" class=\"dataframe\">\n",
       "  <thead>\n",
       "    <tr style=\"text-align: right;\">\n",
       "      <th></th>\n",
       "      <th>date</th>\n",
       "      <th>yield_1mo</th>\n",
       "      <th>yield_2mo</th>\n",
       "      <th>yield_3mo</th>\n",
       "      <th>yield_6mo</th>\n",
       "      <th>yield_1yr</th>\n",
       "      <th>yield_2yr</th>\n",
       "      <th>yield_3yr</th>\n",
       "      <th>yield_5yr</th>\n",
       "      <th>yield_7yr</th>\n",
       "      <th>yield_10yr</th>\n",
       "      <th>yield_20yr</th>\n",
       "      <th>yield_30yr</th>\n",
       "    </tr>\n",
       "  </thead>\n",
       "  <tbody>\n",
       "    <tr>\n",
       "      <th>111</th>\n",
       "      <td>12/2017</td>\n",
       "      <td>1.096571</td>\n",
       "      <td>NaN</td>\n",
       "      <td>1.228437</td>\n",
       "      <td>1.378016</td>\n",
       "      <td>1.552706</td>\n",
       "      <td>1.696730</td>\n",
       "      <td>1.815159</td>\n",
       "      <td>2.070984</td>\n",
       "      <td>2.249190</td>\n",
       "      <td>2.371944</td>\n",
       "      <td>2.616143</td>\n",
       "      <td>2.816000</td>\n",
       "    </tr>\n",
       "    <tr>\n",
       "      <th>112</th>\n",
       "      <td>03/2018</td>\n",
       "      <td>1.439064</td>\n",
       "      <td>NaN</td>\n",
       "      <td>1.582314</td>\n",
       "      <td>1.774311</td>\n",
       "      <td>1.943133</td>\n",
       "      <td>2.160961</td>\n",
       "      <td>2.308296</td>\n",
       "      <td>2.536967</td>\n",
       "      <td>2.686917</td>\n",
       "      <td>2.761713</td>\n",
       "      <td>2.908154</td>\n",
       "      <td>3.033367</td>\n",
       "    </tr>\n",
       "    <tr>\n",
       "      <th>113</th>\n",
       "      <td>06/2018</td>\n",
       "      <td>1.724177</td>\n",
       "      <td>NaN</td>\n",
       "      <td>1.874293</td>\n",
       "      <td>2.055029</td>\n",
       "      <td>2.251847</td>\n",
       "      <td>2.476479</td>\n",
       "      <td>2.608297</td>\n",
       "      <td>2.764812</td>\n",
       "      <td>2.873117</td>\n",
       "      <td>2.919719</td>\n",
       "      <td>2.996320</td>\n",
       "      <td>3.084574</td>\n",
       "    </tr>\n",
       "    <tr>\n",
       "      <th>114</th>\n",
       "      <td>09/2018</td>\n",
       "      <td>1.957015</td>\n",
       "      <td>NaN</td>\n",
       "      <td>2.077545</td>\n",
       "      <td>2.251341</td>\n",
       "      <td>2.463722</td>\n",
       "      <td>2.670071</td>\n",
       "      <td>2.747549</td>\n",
       "      <td>2.813043</td>\n",
       "      <td>2.886032</td>\n",
       "      <td>2.927463</td>\n",
       "      <td>2.999978</td>\n",
       "      <td>3.066486</td>\n",
       "    </tr>\n",
       "    <tr>\n",
       "      <th>115</th>\n",
       "      <td>12/2018</td>\n",
       "      <td>2.259975</td>\n",
       "      <td>2.321269</td>\n",
       "      <td>2.359762</td>\n",
       "      <td>2.505005</td>\n",
       "      <td>2.668527</td>\n",
       "      <td>2.798742</td>\n",
       "      <td>2.838329</td>\n",
       "      <td>2.876344</td>\n",
       "      <td>2.958931</td>\n",
       "      <td>3.033968</td>\n",
       "      <td>3.170226</td>\n",
       "      <td>3.265445</td>\n",
       "    </tr>\n",
       "  </tbody>\n",
       "</table>\n",
       "</div>"
      ],
      "text/plain": [
       "        date  yield_1mo  yield_2mo  yield_3mo  yield_6mo  yield_1yr  \\\n",
       "111  12/2017   1.096571        NaN   1.228437   1.378016   1.552706   \n",
       "112  03/2018   1.439064        NaN   1.582314   1.774311   1.943133   \n",
       "113  06/2018   1.724177        NaN   1.874293   2.055029   2.251847   \n",
       "114  09/2018   1.957015        NaN   2.077545   2.251341   2.463722   \n",
       "115  12/2018   2.259975   2.321269   2.359762   2.505005   2.668527   \n",
       "\n",
       "     yield_2yr  yield_3yr  yield_5yr  yield_7yr  yield_10yr  yield_20yr  \\\n",
       "111   1.696730   1.815159   2.070984   2.249190    2.371944    2.616143   \n",
       "112   2.160961   2.308296   2.536967   2.686917    2.761713    2.908154   \n",
       "113   2.476479   2.608297   2.764812   2.873117    2.919719    2.996320   \n",
       "114   2.670071   2.747549   2.813043   2.886032    2.927463    2.999978   \n",
       "115   2.798742   2.838329   2.876344   2.958931    3.033968    3.170226   \n",
       "\n",
       "     yield_30yr  \n",
       "111    2.816000  \n",
       "112    3.033367  \n",
       "113    3.084574  \n",
       "114    3.066486  \n",
       "115    3.265445  "
      ]
     },
     "execution_count": 7,
     "metadata": {},
     "output_type": "execute_result"
    }
   ],
   "source": [
    "pd.read_sql_query('select * from yield', con=engine).tail() \n"
   ]
  }
 ],
 "metadata": {
  "kernelspec": {
   "display_name": "Python 3",
   "language": "python",
   "name": "python3"
  },
  "language_info": {
   "codemirror_mode": {
    "name": "ipython",
    "version": 3
   },
   "file_extension": ".py",
   "mimetype": "text/x-python",
   "name": "python",
   "nbconvert_exporter": "python",
   "pygments_lexer": "ipython3",
   "version": "3.7.3"
  }
 },
 "nbformat": 4,
 "nbformat_minor": 2
}
