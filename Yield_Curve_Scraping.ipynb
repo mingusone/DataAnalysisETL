{
 "cells": [
  {
   "cell_type": "code",
   "execution_count": null,
   "metadata": {},
   "outputs": [],
   "source": [
    "import pandas as pd \n",
    "\n",
    "#For debugging within For Loops\n",
    "from IPython.display import display\n",
    "\n",
    "#calculate the number of years we gots.\n",
    "starting_year = 1990\n",
    "\n",
    "#last_year = 2019, so 29 years \n",
    "num_of_years = 29"
   ]
  },
  {
   "cell_type": "code",
   "execution_count": null,
   "metadata": {},
   "outputs": [],
   "source": [
    "#Preparing the final DF that will be the aggregate of every year's data\n",
    "final_df = pd.DataFrame()"
   ]
  },
  {
   "cell_type": "code",
   "execution_count": null,
   "metadata": {},
   "outputs": [],
   "source": [
    "#Loop through all the years\n",
    "for i in range(num_of_years):\n",
    "    #Make the URL\n",
    "    url = 'https://www.treasury.gov/resource-center/data-chart-center/interest-rates/Pages/TextView.aspx?data=yieldYear&year=' + str(starting_year)\n",
    "    #Read the tables and make a DF from it\n",
    "    tables = pd.read_html(url)\n",
    "    \n",
    "    df = tables[1]\n",
    "\n",
    "    #Reformat the date\n",
    "    df['Date'] = pd.to_datetime(df['Date'], format='%m/%d/%y')\n",
    "    df['Date'] = df['Date'].dt.strftime('%m/%Y')\n",
    "    \n",
    "    #Turn daily data into monthly mean data\n",
    "    df_grouped_by_months = df.groupby('Date').mean()\n",
    "    \n",
    "    #Turn monthly data into rolling mean of every 3 months data\n",
    "    rolling_df = df_grouped_by_months.rolling(3).mean()\n",
    "    \n",
    "    #Turn rolling mean into Quarterly Data\n",
    "    #We just delete every month except for march june september december and we'll have quarterly data\n",
    "    \n",
    "    #Reseting index real quick so we can delete rows by index\n",
    "    rolling_df = rolling_df.reset_index()\n",
    "#     quarterly_df = rolling_df.drop(rolling_df[test.x > 0].index)\n",
    "    \n",
    "    #We keep rows of index 2,5,8,11 (since index starts at 0)\n",
    "    quarterly_df = rolling_df.drop([0,1,3,4,6,7,9,10])\n",
    "    final_df = pd.concat([final_df,quarterly_df], axis=0, ignore_index=True)\n",
    "    starting_year += 1"
   ]
  },
  {
   "cell_type": "code",
   "execution_count": null,
   "metadata": {},
   "outputs": [],
   "source": [
    "#Lets take a look at where we are...\n",
    "final_df.tail()"
   ]
  },
  {
   "cell_type": "code",
   "execution_count": null,
   "metadata": {},
   "outputs": [],
   "source": [
    "#writting what we found to CSV. \n",
    "final_df.to_csv(\"yield.csv\", index=False, date_format='%m/%Y')"
   ]
  },
  {
   "cell_type": "code",
   "execution_count": null,
   "metadata": {},
   "outputs": [],
   "source": [
    "final_df.columns"
   ]
  }
 ],
 "metadata": {
  "kernelspec": {
   "display_name": "Python 3",
   "language": "python",
   "name": "python3"
  },
  "language_info": {
   "codemirror_mode": {
    "name": "ipython",
    "version": 3
   },
   "file_extension": ".py",
   "mimetype": "text/x-python",
   "name": "python",
   "nbconvert_exporter": "python",
   "pygments_lexer": "ipython3",
   "version": "3.6.8"
  }
 },
 "nbformat": 4,
 "nbformat_minor": 2
}
